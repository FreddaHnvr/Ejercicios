{
  "cells": [
    {
      "cell_type": "markdown",
      "metadata": {
        "id": "view-in-github",
        "colab_type": "text"
      },
      "source": [
        "<a href=\"https://colab.research.google.com/github/FreddaHnvr/Ejercicios/blob/main/Base_de_Datos__10ipynb.ipynb\" target=\"_parent\"><img src=\"https://colab.research.google.com/assets/colab-badge.svg\" alt=\"Open In Colab\"/></a>"
      ]
    },
    {
      "cell_type": "markdown",
      "metadata": {
        "id": "H9Rt8TID-4ur"
      },
      "source": [
        "Cargar Librerias"
      ]
    },
    {
      "cell_type": "code",
      "execution_count": 47,
      "metadata": {
        "id": "DnpUeuSw-m1-"
      },
      "outputs": [],
      "source": [
        "%config IPCompleter.greedy=True\n",
        "import pandas as pd\n",
        "import os\n",
        "import numpy as np\n",
        "import xlrd\n",
        "import seaborn as sb\n",
        "import matplotlib.pyplot as plt\n",
        "from matplotlib.ticker import PercentFormatter"
      ]
    },
    {
      "cell_type": "markdown",
      "metadata": {
        "id": "zX6Jjm0W_EXL"
      },
      "source": [
        "Cargar Base de Datos"
      ]
    },
    {
      "cell_type": "code",
      "execution_count": 17,
      "metadata": {
        "id": "YYaKPJb5-83t"
      },
      "outputs": [],
      "source": [
        "from google.colab import files"
      ]
    },
    {
      "cell_type": "code",
      "execution_count": 16,
      "metadata": {
        "colab": {
          "base_uri": "https://localhost:8080/"
        },
        "id": "o9ZULukV_Xsk",
        "outputId": "fbad505a-3c9c-4b40-cab9-9afce187da57"
      },
      "outputs": [
        {
          "output_type": "stream",
          "name": "stdout",
          "text": [
            "Drive already mounted at /content/drive; to attempt to forcibly remount, call drive.mount(\"/content/drive\", force_remount=True).\n"
          ]
        }
      ],
      "source": [
        "from google.colab import drive\n",
        "drive.mount('/content/drive')"
      ]
    },
    {
      "cell_type": "code",
      "execution_count": 18,
      "metadata": {
        "colab": {
          "base_uri": "https://localhost:8080/"
        },
        "id": "qwsum7weAQKJ",
        "outputId": "95df72db-107f-4cc1-bc3a-f6a7a9020d4c"
      },
      "outputs": [
        {
          "output_type": "execute_result",
          "data": {
            "text/plain": [
              "(12, 11)"
            ]
          },
          "metadata": {},
          "execution_count": 18
        }
      ],
      "source": [
        "import pandas as pd\n",
        "df = pd.read_excel('/content/drive/MyDrive/Base de Datos/EXCEL FREDA estadisitca.xlsx')\n",
        "df.shape"
      ]
    },
    {
      "cell_type": "code",
      "execution_count": 19,
      "metadata": {
        "colab": {
          "base_uri": "https://localhost:8080/",
          "height": 426
        },
        "id": "EW8ilQTpAeFV",
        "outputId": "d29db30c-ca2f-469c-f931-663fa4496dd0"
      },
      "outputs": [
        {
          "output_type": "execute_result",
          "data": {
            "text/plain": [
              "            Mes  2001  2002  2003  2004  2005  2006  2007  2008  2009  \\\n",
              "0         Enero   164   210   191   175   138   117   123   133   131   \n",
              "1       Febrero   158   179   199   148   148    99   119    99   126   \n",
              "2         Marzo   200   174   217   132   125   115   122   130   155   \n",
              "3         Abril   165   196   180   131   146    88    93   127   134   \n",
              "4          Mayo   178   182   252   160   166   134   106   168   139   \n",
              "5         Junio   169   179   213   150   136    94   131   146   111   \n",
              "6         Julio   183   185   211   144   146   123   128   168   106   \n",
              "7       Agosto    189   198   215   164   149   102   144   166   130   \n",
              "8   Septiembre    210   194   188   132   157   104   114   169   131   \n",
              "9      Octubre    215   174   186   144   146   134   134   161   140   \n",
              "10   Noviembre    230   175   192   150   136   120   160   189   129   \n",
              "11   Diciembre    179   148   159   105   113   101   149   175   116   \n",
              "\n",
              "    Poblacion  \n",
              "0     1243756  \n",
              "1     1243756  \n",
              "2     1243756  \n",
              "3     1243756  \n",
              "4     1243756  \n",
              "5     1243756  \n",
              "6     1243756  \n",
              "7     1243756  \n",
              "8     1243756  \n",
              "9     1243756  \n",
              "10    1243756  \n",
              "11    1243756  "
            ],
            "text/html": [
              "\n",
              "  <div id=\"df-98aa1deb-d56d-4a0d-bb1a-16831ae1c2ca\">\n",
              "    <div class=\"colab-df-container\">\n",
              "      <div>\n",
              "<style scoped>\n",
              "    .dataframe tbody tr th:only-of-type {\n",
              "        vertical-align: middle;\n",
              "    }\n",
              "\n",
              "    .dataframe tbody tr th {\n",
              "        vertical-align: top;\n",
              "    }\n",
              "\n",
              "    .dataframe thead th {\n",
              "        text-align: right;\n",
              "    }\n",
              "</style>\n",
              "<table border=\"1\" class=\"dataframe\">\n",
              "  <thead>\n",
              "    <tr style=\"text-align: right;\">\n",
              "      <th></th>\n",
              "      <th>Mes</th>\n",
              "      <th>2001</th>\n",
              "      <th>2002</th>\n",
              "      <th>2003</th>\n",
              "      <th>2004</th>\n",
              "      <th>2005</th>\n",
              "      <th>2006</th>\n",
              "      <th>2007</th>\n",
              "      <th>2008</th>\n",
              "      <th>2009</th>\n",
              "      <th>Poblacion</th>\n",
              "    </tr>\n",
              "  </thead>\n",
              "  <tbody>\n",
              "    <tr>\n",
              "      <th>0</th>\n",
              "      <td>Enero</td>\n",
              "      <td>164</td>\n",
              "      <td>210</td>\n",
              "      <td>191</td>\n",
              "      <td>175</td>\n",
              "      <td>138</td>\n",
              "      <td>117</td>\n",
              "      <td>123</td>\n",
              "      <td>133</td>\n",
              "      <td>131</td>\n",
              "      <td>1243756</td>\n",
              "    </tr>\n",
              "    <tr>\n",
              "      <th>1</th>\n",
              "      <td>Febrero</td>\n",
              "      <td>158</td>\n",
              "      <td>179</td>\n",
              "      <td>199</td>\n",
              "      <td>148</td>\n",
              "      <td>148</td>\n",
              "      <td>99</td>\n",
              "      <td>119</td>\n",
              "      <td>99</td>\n",
              "      <td>126</td>\n",
              "      <td>1243756</td>\n",
              "    </tr>\n",
              "    <tr>\n",
              "      <th>2</th>\n",
              "      <td>Marzo</td>\n",
              "      <td>200</td>\n",
              "      <td>174</td>\n",
              "      <td>217</td>\n",
              "      <td>132</td>\n",
              "      <td>125</td>\n",
              "      <td>115</td>\n",
              "      <td>122</td>\n",
              "      <td>130</td>\n",
              "      <td>155</td>\n",
              "      <td>1243756</td>\n",
              "    </tr>\n",
              "    <tr>\n",
              "      <th>3</th>\n",
              "      <td>Abril</td>\n",
              "      <td>165</td>\n",
              "      <td>196</td>\n",
              "      <td>180</td>\n",
              "      <td>131</td>\n",
              "      <td>146</td>\n",
              "      <td>88</td>\n",
              "      <td>93</td>\n",
              "      <td>127</td>\n",
              "      <td>134</td>\n",
              "      <td>1243756</td>\n",
              "    </tr>\n",
              "    <tr>\n",
              "      <th>4</th>\n",
              "      <td>Mayo</td>\n",
              "      <td>178</td>\n",
              "      <td>182</td>\n",
              "      <td>252</td>\n",
              "      <td>160</td>\n",
              "      <td>166</td>\n",
              "      <td>134</td>\n",
              "      <td>106</td>\n",
              "      <td>168</td>\n",
              "      <td>139</td>\n",
              "      <td>1243756</td>\n",
              "    </tr>\n",
              "    <tr>\n",
              "      <th>5</th>\n",
              "      <td>Junio</td>\n",
              "      <td>169</td>\n",
              "      <td>179</td>\n",
              "      <td>213</td>\n",
              "      <td>150</td>\n",
              "      <td>136</td>\n",
              "      <td>94</td>\n",
              "      <td>131</td>\n",
              "      <td>146</td>\n",
              "      <td>111</td>\n",
              "      <td>1243756</td>\n",
              "    </tr>\n",
              "    <tr>\n",
              "      <th>6</th>\n",
              "      <td>Julio</td>\n",
              "      <td>183</td>\n",
              "      <td>185</td>\n",
              "      <td>211</td>\n",
              "      <td>144</td>\n",
              "      <td>146</td>\n",
              "      <td>123</td>\n",
              "      <td>128</td>\n",
              "      <td>168</td>\n",
              "      <td>106</td>\n",
              "      <td>1243756</td>\n",
              "    </tr>\n",
              "    <tr>\n",
              "      <th>7</th>\n",
              "      <td>Agosto</td>\n",
              "      <td>189</td>\n",
              "      <td>198</td>\n",
              "      <td>215</td>\n",
              "      <td>164</td>\n",
              "      <td>149</td>\n",
              "      <td>102</td>\n",
              "      <td>144</td>\n",
              "      <td>166</td>\n",
              "      <td>130</td>\n",
              "      <td>1243756</td>\n",
              "    </tr>\n",
              "    <tr>\n",
              "      <th>8</th>\n",
              "      <td>Septiembre</td>\n",
              "      <td>210</td>\n",
              "      <td>194</td>\n",
              "      <td>188</td>\n",
              "      <td>132</td>\n",
              "      <td>157</td>\n",
              "      <td>104</td>\n",
              "      <td>114</td>\n",
              "      <td>169</td>\n",
              "      <td>131</td>\n",
              "      <td>1243756</td>\n",
              "    </tr>\n",
              "    <tr>\n",
              "      <th>9</th>\n",
              "      <td>Octubre</td>\n",
              "      <td>215</td>\n",
              "      <td>174</td>\n",
              "      <td>186</td>\n",
              "      <td>144</td>\n",
              "      <td>146</td>\n",
              "      <td>134</td>\n",
              "      <td>134</td>\n",
              "      <td>161</td>\n",
              "      <td>140</td>\n",
              "      <td>1243756</td>\n",
              "    </tr>\n",
              "    <tr>\n",
              "      <th>10</th>\n",
              "      <td>Noviembre</td>\n",
              "      <td>230</td>\n",
              "      <td>175</td>\n",
              "      <td>192</td>\n",
              "      <td>150</td>\n",
              "      <td>136</td>\n",
              "      <td>120</td>\n",
              "      <td>160</td>\n",
              "      <td>189</td>\n",
              "      <td>129</td>\n",
              "      <td>1243756</td>\n",
              "    </tr>\n",
              "    <tr>\n",
              "      <th>11</th>\n",
              "      <td>Diciembre</td>\n",
              "      <td>179</td>\n",
              "      <td>148</td>\n",
              "      <td>159</td>\n",
              "      <td>105</td>\n",
              "      <td>113</td>\n",
              "      <td>101</td>\n",
              "      <td>149</td>\n",
              "      <td>175</td>\n",
              "      <td>116</td>\n",
              "      <td>1243756</td>\n",
              "    </tr>\n",
              "  </tbody>\n",
              "</table>\n",
              "</div>\n",
              "      <button class=\"colab-df-convert\" onclick=\"convertToInteractive('df-98aa1deb-d56d-4a0d-bb1a-16831ae1c2ca')\"\n",
              "              title=\"Convert this dataframe to an interactive table.\"\n",
              "              style=\"display:none;\">\n",
              "        \n",
              "  <svg xmlns=\"http://www.w3.org/2000/svg\" height=\"24px\"viewBox=\"0 0 24 24\"\n",
              "       width=\"24px\">\n",
              "    <path d=\"M0 0h24v24H0V0z\" fill=\"none\"/>\n",
              "    <path d=\"M18.56 5.44l.94 2.06.94-2.06 2.06-.94-2.06-.94-.94-2.06-.94 2.06-2.06.94zm-11 1L8.5 8.5l.94-2.06 2.06-.94-2.06-.94L8.5 2.5l-.94 2.06-2.06.94zm10 10l.94 2.06.94-2.06 2.06-.94-2.06-.94-.94-2.06-.94 2.06-2.06.94z\"/><path d=\"M17.41 7.96l-1.37-1.37c-.4-.4-.92-.59-1.43-.59-.52 0-1.04.2-1.43.59L10.3 9.45l-7.72 7.72c-.78.78-.78 2.05 0 2.83L4 21.41c.39.39.9.59 1.41.59.51 0 1.02-.2 1.41-.59l7.78-7.78 2.81-2.81c.8-.78.8-2.07 0-2.86zM5.41 20L4 18.59l7.72-7.72 1.47 1.35L5.41 20z\"/>\n",
              "  </svg>\n",
              "      </button>\n",
              "      \n",
              "  <style>\n",
              "    .colab-df-container {\n",
              "      display:flex;\n",
              "      flex-wrap:wrap;\n",
              "      gap: 12px;\n",
              "    }\n",
              "\n",
              "    .colab-df-convert {\n",
              "      background-color: #E8F0FE;\n",
              "      border: none;\n",
              "      border-radius: 50%;\n",
              "      cursor: pointer;\n",
              "      display: none;\n",
              "      fill: #1967D2;\n",
              "      height: 32px;\n",
              "      padding: 0 0 0 0;\n",
              "      width: 32px;\n",
              "    }\n",
              "\n",
              "    .colab-df-convert:hover {\n",
              "      background-color: #E2EBFA;\n",
              "      box-shadow: 0px 1px 2px rgba(60, 64, 67, 0.3), 0px 1px 3px 1px rgba(60, 64, 67, 0.15);\n",
              "      fill: #174EA6;\n",
              "    }\n",
              "\n",
              "    [theme=dark] .colab-df-convert {\n",
              "      background-color: #3B4455;\n",
              "      fill: #D2E3FC;\n",
              "    }\n",
              "\n",
              "    [theme=dark] .colab-df-convert:hover {\n",
              "      background-color: #434B5C;\n",
              "      box-shadow: 0px 1px 3px 1px rgba(0, 0, 0, 0.15);\n",
              "      filter: drop-shadow(0px 1px 2px rgba(0, 0, 0, 0.3));\n",
              "      fill: #FFFFFF;\n",
              "    }\n",
              "  </style>\n",
              "\n",
              "      <script>\n",
              "        const buttonEl =\n",
              "          document.querySelector('#df-98aa1deb-d56d-4a0d-bb1a-16831ae1c2ca button.colab-df-convert');\n",
              "        buttonEl.style.display =\n",
              "          google.colab.kernel.accessAllowed ? 'block' : 'none';\n",
              "\n",
              "        async function convertToInteractive(key) {\n",
              "          const element = document.querySelector('#df-98aa1deb-d56d-4a0d-bb1a-16831ae1c2ca');\n",
              "          const dataTable =\n",
              "            await google.colab.kernel.invokeFunction('convertToInteractive',\n",
              "                                                     [key], {});\n",
              "          if (!dataTable) return;\n",
              "\n",
              "          const docLinkHtml = 'Like what you see? Visit the ' +\n",
              "            '<a target=\"_blank\" href=https://colab.research.google.com/notebooks/data_table.ipynb>data table notebook</a>'\n",
              "            + ' to learn more about interactive tables.';\n",
              "          element.innerHTML = '';\n",
              "          dataTable['output_type'] = 'display_data';\n",
              "          await google.colab.output.renderOutput(dataTable, element);\n",
              "          const docLink = document.createElement('div');\n",
              "          docLink.innerHTML = docLinkHtml;\n",
              "          element.appendChild(docLink);\n",
              "        }\n",
              "      </script>\n",
              "    </div>\n",
              "  </div>\n",
              "  "
            ]
          },
          "metadata": {},
          "execution_count": 19
        }
      ],
      "source": [
        "df.head(12)"
      ]
    },
    {
      "cell_type": "code",
      "execution_count": 48,
      "metadata": {
        "colab": {
          "base_uri": "https://localhost:8080/",
          "height": 206
        },
        "id": "_amjz7AwAn3t",
        "outputId": "827291c6-7084-4860-d81a-7217ac70b461"
      },
      "outputs": [
        {
          "output_type": "execute_result",
          "data": {
            "text/plain": [
              "            Mes  2001  2002  2003  2004  2005  2006  2007  2008  2009  \\\n",
              "7       Agosto    189   198   215   164   149   102   144   166   130   \n",
              "8   Septiembre    210   194   188   132   157   104   114   169   131   \n",
              "9      Octubre    215   174   186   144   146   134   134   161   140   \n",
              "10   Noviembre    230   175   192   150   136   120   160   189   129   \n",
              "11   Diciembre    179   148   159   105   113   101   149   175   116   \n",
              "\n",
              "    Poblacion  \n",
              "7     1243756  \n",
              "8     1243756  \n",
              "9     1243756  \n",
              "10    1243756  \n",
              "11    1243756  "
            ],
            "text/html": [
              "\n",
              "  <div id=\"df-8537bd6d-f276-477e-ac0a-da245afa657d\">\n",
              "    <div class=\"colab-df-container\">\n",
              "      <div>\n",
              "<style scoped>\n",
              "    .dataframe tbody tr th:only-of-type {\n",
              "        vertical-align: middle;\n",
              "    }\n",
              "\n",
              "    .dataframe tbody tr th {\n",
              "        vertical-align: top;\n",
              "    }\n",
              "\n",
              "    .dataframe thead th {\n",
              "        text-align: right;\n",
              "    }\n",
              "</style>\n",
              "<table border=\"1\" class=\"dataframe\">\n",
              "  <thead>\n",
              "    <tr style=\"text-align: right;\">\n",
              "      <th></th>\n",
              "      <th>Mes</th>\n",
              "      <th>2001</th>\n",
              "      <th>2002</th>\n",
              "      <th>2003</th>\n",
              "      <th>2004</th>\n",
              "      <th>2005</th>\n",
              "      <th>2006</th>\n",
              "      <th>2007</th>\n",
              "      <th>2008</th>\n",
              "      <th>2009</th>\n",
              "      <th>Poblacion</th>\n",
              "    </tr>\n",
              "  </thead>\n",
              "  <tbody>\n",
              "    <tr>\n",
              "      <th>7</th>\n",
              "      <td>Agosto</td>\n",
              "      <td>189</td>\n",
              "      <td>198</td>\n",
              "      <td>215</td>\n",
              "      <td>164</td>\n",
              "      <td>149</td>\n",
              "      <td>102</td>\n",
              "      <td>144</td>\n",
              "      <td>166</td>\n",
              "      <td>130</td>\n",
              "      <td>1243756</td>\n",
              "    </tr>\n",
              "    <tr>\n",
              "      <th>8</th>\n",
              "      <td>Septiembre</td>\n",
              "      <td>210</td>\n",
              "      <td>194</td>\n",
              "      <td>188</td>\n",
              "      <td>132</td>\n",
              "      <td>157</td>\n",
              "      <td>104</td>\n",
              "      <td>114</td>\n",
              "      <td>169</td>\n",
              "      <td>131</td>\n",
              "      <td>1243756</td>\n",
              "    </tr>\n",
              "    <tr>\n",
              "      <th>9</th>\n",
              "      <td>Octubre</td>\n",
              "      <td>215</td>\n",
              "      <td>174</td>\n",
              "      <td>186</td>\n",
              "      <td>144</td>\n",
              "      <td>146</td>\n",
              "      <td>134</td>\n",
              "      <td>134</td>\n",
              "      <td>161</td>\n",
              "      <td>140</td>\n",
              "      <td>1243756</td>\n",
              "    </tr>\n",
              "    <tr>\n",
              "      <th>10</th>\n",
              "      <td>Noviembre</td>\n",
              "      <td>230</td>\n",
              "      <td>175</td>\n",
              "      <td>192</td>\n",
              "      <td>150</td>\n",
              "      <td>136</td>\n",
              "      <td>120</td>\n",
              "      <td>160</td>\n",
              "      <td>189</td>\n",
              "      <td>129</td>\n",
              "      <td>1243756</td>\n",
              "    </tr>\n",
              "    <tr>\n",
              "      <th>11</th>\n",
              "      <td>Diciembre</td>\n",
              "      <td>179</td>\n",
              "      <td>148</td>\n",
              "      <td>159</td>\n",
              "      <td>105</td>\n",
              "      <td>113</td>\n",
              "      <td>101</td>\n",
              "      <td>149</td>\n",
              "      <td>175</td>\n",
              "      <td>116</td>\n",
              "      <td>1243756</td>\n",
              "    </tr>\n",
              "  </tbody>\n",
              "</table>\n",
              "</div>\n",
              "      <button class=\"colab-df-convert\" onclick=\"convertToInteractive('df-8537bd6d-f276-477e-ac0a-da245afa657d')\"\n",
              "              title=\"Convert this dataframe to an interactive table.\"\n",
              "              style=\"display:none;\">\n",
              "        \n",
              "  <svg xmlns=\"http://www.w3.org/2000/svg\" height=\"24px\"viewBox=\"0 0 24 24\"\n",
              "       width=\"24px\">\n",
              "    <path d=\"M0 0h24v24H0V0z\" fill=\"none\"/>\n",
              "    <path d=\"M18.56 5.44l.94 2.06.94-2.06 2.06-.94-2.06-.94-.94-2.06-.94 2.06-2.06.94zm-11 1L8.5 8.5l.94-2.06 2.06-.94-2.06-.94L8.5 2.5l-.94 2.06-2.06.94zm10 10l.94 2.06.94-2.06 2.06-.94-2.06-.94-.94-2.06-.94 2.06-2.06.94z\"/><path d=\"M17.41 7.96l-1.37-1.37c-.4-.4-.92-.59-1.43-.59-.52 0-1.04.2-1.43.59L10.3 9.45l-7.72 7.72c-.78.78-.78 2.05 0 2.83L4 21.41c.39.39.9.59 1.41.59.51 0 1.02-.2 1.41-.59l7.78-7.78 2.81-2.81c.8-.78.8-2.07 0-2.86zM5.41 20L4 18.59l7.72-7.72 1.47 1.35L5.41 20z\"/>\n",
              "  </svg>\n",
              "      </button>\n",
              "      \n",
              "  <style>\n",
              "    .colab-df-container {\n",
              "      display:flex;\n",
              "      flex-wrap:wrap;\n",
              "      gap: 12px;\n",
              "    }\n",
              "\n",
              "    .colab-df-convert {\n",
              "      background-color: #E8F0FE;\n",
              "      border: none;\n",
              "      border-radius: 50%;\n",
              "      cursor: pointer;\n",
              "      display: none;\n",
              "      fill: #1967D2;\n",
              "      height: 32px;\n",
              "      padding: 0 0 0 0;\n",
              "      width: 32px;\n",
              "    }\n",
              "\n",
              "    .colab-df-convert:hover {\n",
              "      background-color: #E2EBFA;\n",
              "      box-shadow: 0px 1px 2px rgba(60, 64, 67, 0.3), 0px 1px 3px 1px rgba(60, 64, 67, 0.15);\n",
              "      fill: #174EA6;\n",
              "    }\n",
              "\n",
              "    [theme=dark] .colab-df-convert {\n",
              "      background-color: #3B4455;\n",
              "      fill: #D2E3FC;\n",
              "    }\n",
              "\n",
              "    [theme=dark] .colab-df-convert:hover {\n",
              "      background-color: #434B5C;\n",
              "      box-shadow: 0px 1px 3px 1px rgba(0, 0, 0, 0.15);\n",
              "      filter: drop-shadow(0px 1px 2px rgba(0, 0, 0, 0.3));\n",
              "      fill: #FFFFFF;\n",
              "    }\n",
              "  </style>\n",
              "\n",
              "      <script>\n",
              "        const buttonEl =\n",
              "          document.querySelector('#df-8537bd6d-f276-477e-ac0a-da245afa657d button.colab-df-convert');\n",
              "        buttonEl.style.display =\n",
              "          google.colab.kernel.accessAllowed ? 'block' : 'none';\n",
              "\n",
              "        async function convertToInteractive(key) {\n",
              "          const element = document.querySelector('#df-8537bd6d-f276-477e-ac0a-da245afa657d');\n",
              "          const dataTable =\n",
              "            await google.colab.kernel.invokeFunction('convertToInteractive',\n",
              "                                                     [key], {});\n",
              "          if (!dataTable) return;\n",
              "\n",
              "          const docLinkHtml = 'Like what you see? Visit the ' +\n",
              "            '<a target=\"_blank\" href=https://colab.research.google.com/notebooks/data_table.ipynb>data table notebook</a>'\n",
              "            + ' to learn more about interactive tables.';\n",
              "          element.innerHTML = '';\n",
              "          dataTable['output_type'] = 'display_data';\n",
              "          await google.colab.output.renderOutput(dataTable, element);\n",
              "          const docLink = document.createElement('div');\n",
              "          docLink.innerHTML = docLinkHtml;\n",
              "          element.appendChild(docLink);\n",
              "        }\n",
              "      </script>\n",
              "    </div>\n",
              "  </div>\n",
              "  "
            ]
          },
          "metadata": {},
          "execution_count": 48
        }
      ],
      "source": [
        "df.tail()"
      ]
    },
    {
      "cell_type": "code",
      "execution_count": 49,
      "metadata": {
        "colab": {
          "base_uri": "https://localhost:8080/",
          "height": 300
        },
        "id": "5iAqmHalAso_",
        "outputId": "157dbb62-7428-43ba-8da9-fcc7a66ee9e3"
      },
      "outputs": [
        {
          "output_type": "execute_result",
          "data": {
            "text/plain": [
              "             2001        2002        2003        2004        2005        2006  \\\n",
              "count   12.000000   12.000000   12.000000   12.000000   12.000000   12.000000   \n",
              "mean   186.666667  182.833333  200.250000  144.583333  142.166667  110.916667   \n",
              "std     22.708962   15.758596   23.499033   18.287891   13.985924   15.156507   \n",
              "min    158.000000  148.000000  159.000000  105.000000  113.000000   88.000000   \n",
              "25%    168.000000  174.750000  187.500000  132.000000  136.000000  100.500000   \n",
              "50%    181.000000  180.500000  195.500000  146.000000  146.000000  109.500000   \n",
              "75%    202.500000  194.500000  213.500000  152.500000  148.250000  120.750000   \n",
              "max    230.000000  210.000000  252.000000  175.000000  166.000000  134.000000   \n",
              "\n",
              "             2007        2008        2009  Poblacion  \n",
              "count   12.000000   12.000000   12.000000       12.0  \n",
              "mean   126.916667  152.583333  129.000000  1243756.0  \n",
              "std     18.583758   25.738045   13.355285        0.0  \n",
              "min     93.000000   99.000000  106.000000  1243756.0  \n",
              "25%    117.750000  132.250000  123.500000  1243756.0  \n",
              "50%    125.500000  163.500000  130.500000  1243756.0  \n",
              "75%    136.500000  168.250000  135.250000  1243756.0  \n",
              "max    160.000000  189.000000  155.000000  1243756.0  "
            ],
            "text/html": [
              "\n",
              "  <div id=\"df-ad13c09e-c4bc-477b-b8e4-0f48233127e8\">\n",
              "    <div class=\"colab-df-container\">\n",
              "      <div>\n",
              "<style scoped>\n",
              "    .dataframe tbody tr th:only-of-type {\n",
              "        vertical-align: middle;\n",
              "    }\n",
              "\n",
              "    .dataframe tbody tr th {\n",
              "        vertical-align: top;\n",
              "    }\n",
              "\n",
              "    .dataframe thead th {\n",
              "        text-align: right;\n",
              "    }\n",
              "</style>\n",
              "<table border=\"1\" class=\"dataframe\">\n",
              "  <thead>\n",
              "    <tr style=\"text-align: right;\">\n",
              "      <th></th>\n",
              "      <th>2001</th>\n",
              "      <th>2002</th>\n",
              "      <th>2003</th>\n",
              "      <th>2004</th>\n",
              "      <th>2005</th>\n",
              "      <th>2006</th>\n",
              "      <th>2007</th>\n",
              "      <th>2008</th>\n",
              "      <th>2009</th>\n",
              "      <th>Poblacion</th>\n",
              "    </tr>\n",
              "  </thead>\n",
              "  <tbody>\n",
              "    <tr>\n",
              "      <th>count</th>\n",
              "      <td>12.000000</td>\n",
              "      <td>12.000000</td>\n",
              "      <td>12.000000</td>\n",
              "      <td>12.000000</td>\n",
              "      <td>12.000000</td>\n",
              "      <td>12.000000</td>\n",
              "      <td>12.000000</td>\n",
              "      <td>12.000000</td>\n",
              "      <td>12.000000</td>\n",
              "      <td>12.0</td>\n",
              "    </tr>\n",
              "    <tr>\n",
              "      <th>mean</th>\n",
              "      <td>186.666667</td>\n",
              "      <td>182.833333</td>\n",
              "      <td>200.250000</td>\n",
              "      <td>144.583333</td>\n",
              "      <td>142.166667</td>\n",
              "      <td>110.916667</td>\n",
              "      <td>126.916667</td>\n",
              "      <td>152.583333</td>\n",
              "      <td>129.000000</td>\n",
              "      <td>1243756.0</td>\n",
              "    </tr>\n",
              "    <tr>\n",
              "      <th>std</th>\n",
              "      <td>22.708962</td>\n",
              "      <td>15.758596</td>\n",
              "      <td>23.499033</td>\n",
              "      <td>18.287891</td>\n",
              "      <td>13.985924</td>\n",
              "      <td>15.156507</td>\n",
              "      <td>18.583758</td>\n",
              "      <td>25.738045</td>\n",
              "      <td>13.355285</td>\n",
              "      <td>0.0</td>\n",
              "    </tr>\n",
              "    <tr>\n",
              "      <th>min</th>\n",
              "      <td>158.000000</td>\n",
              "      <td>148.000000</td>\n",
              "      <td>159.000000</td>\n",
              "      <td>105.000000</td>\n",
              "      <td>113.000000</td>\n",
              "      <td>88.000000</td>\n",
              "      <td>93.000000</td>\n",
              "      <td>99.000000</td>\n",
              "      <td>106.000000</td>\n",
              "      <td>1243756.0</td>\n",
              "    </tr>\n",
              "    <tr>\n",
              "      <th>25%</th>\n",
              "      <td>168.000000</td>\n",
              "      <td>174.750000</td>\n",
              "      <td>187.500000</td>\n",
              "      <td>132.000000</td>\n",
              "      <td>136.000000</td>\n",
              "      <td>100.500000</td>\n",
              "      <td>117.750000</td>\n",
              "      <td>132.250000</td>\n",
              "      <td>123.500000</td>\n",
              "      <td>1243756.0</td>\n",
              "    </tr>\n",
              "    <tr>\n",
              "      <th>50%</th>\n",
              "      <td>181.000000</td>\n",
              "      <td>180.500000</td>\n",
              "      <td>195.500000</td>\n",
              "      <td>146.000000</td>\n",
              "      <td>146.000000</td>\n",
              "      <td>109.500000</td>\n",
              "      <td>125.500000</td>\n",
              "      <td>163.500000</td>\n",
              "      <td>130.500000</td>\n",
              "      <td>1243756.0</td>\n",
              "    </tr>\n",
              "    <tr>\n",
              "      <th>75%</th>\n",
              "      <td>202.500000</td>\n",
              "      <td>194.500000</td>\n",
              "      <td>213.500000</td>\n",
              "      <td>152.500000</td>\n",
              "      <td>148.250000</td>\n",
              "      <td>120.750000</td>\n",
              "      <td>136.500000</td>\n",
              "      <td>168.250000</td>\n",
              "      <td>135.250000</td>\n",
              "      <td>1243756.0</td>\n",
              "    </tr>\n",
              "    <tr>\n",
              "      <th>max</th>\n",
              "      <td>230.000000</td>\n",
              "      <td>210.000000</td>\n",
              "      <td>252.000000</td>\n",
              "      <td>175.000000</td>\n",
              "      <td>166.000000</td>\n",
              "      <td>134.000000</td>\n",
              "      <td>160.000000</td>\n",
              "      <td>189.000000</td>\n",
              "      <td>155.000000</td>\n",
              "      <td>1243756.0</td>\n",
              "    </tr>\n",
              "  </tbody>\n",
              "</table>\n",
              "</div>\n",
              "      <button class=\"colab-df-convert\" onclick=\"convertToInteractive('df-ad13c09e-c4bc-477b-b8e4-0f48233127e8')\"\n",
              "              title=\"Convert this dataframe to an interactive table.\"\n",
              "              style=\"display:none;\">\n",
              "        \n",
              "  <svg xmlns=\"http://www.w3.org/2000/svg\" height=\"24px\"viewBox=\"0 0 24 24\"\n",
              "       width=\"24px\">\n",
              "    <path d=\"M0 0h24v24H0V0z\" fill=\"none\"/>\n",
              "    <path d=\"M18.56 5.44l.94 2.06.94-2.06 2.06-.94-2.06-.94-.94-2.06-.94 2.06-2.06.94zm-11 1L8.5 8.5l.94-2.06 2.06-.94-2.06-.94L8.5 2.5l-.94 2.06-2.06.94zm10 10l.94 2.06.94-2.06 2.06-.94-2.06-.94-.94-2.06-.94 2.06-2.06.94z\"/><path d=\"M17.41 7.96l-1.37-1.37c-.4-.4-.92-.59-1.43-.59-.52 0-1.04.2-1.43.59L10.3 9.45l-7.72 7.72c-.78.78-.78 2.05 0 2.83L4 21.41c.39.39.9.59 1.41.59.51 0 1.02-.2 1.41-.59l7.78-7.78 2.81-2.81c.8-.78.8-2.07 0-2.86zM5.41 20L4 18.59l7.72-7.72 1.47 1.35L5.41 20z\"/>\n",
              "  </svg>\n",
              "      </button>\n",
              "      \n",
              "  <style>\n",
              "    .colab-df-container {\n",
              "      display:flex;\n",
              "      flex-wrap:wrap;\n",
              "      gap: 12px;\n",
              "    }\n",
              "\n",
              "    .colab-df-convert {\n",
              "      background-color: #E8F0FE;\n",
              "      border: none;\n",
              "      border-radius: 50%;\n",
              "      cursor: pointer;\n",
              "      display: none;\n",
              "      fill: #1967D2;\n",
              "      height: 32px;\n",
              "      padding: 0 0 0 0;\n",
              "      width: 32px;\n",
              "    }\n",
              "\n",
              "    .colab-df-convert:hover {\n",
              "      background-color: #E2EBFA;\n",
              "      box-shadow: 0px 1px 2px rgba(60, 64, 67, 0.3), 0px 1px 3px 1px rgba(60, 64, 67, 0.15);\n",
              "      fill: #174EA6;\n",
              "    }\n",
              "\n",
              "    [theme=dark] .colab-df-convert {\n",
              "      background-color: #3B4455;\n",
              "      fill: #D2E3FC;\n",
              "    }\n",
              "\n",
              "    [theme=dark] .colab-df-convert:hover {\n",
              "      background-color: #434B5C;\n",
              "      box-shadow: 0px 1px 3px 1px rgba(0, 0, 0, 0.15);\n",
              "      filter: drop-shadow(0px 1px 2px rgba(0, 0, 0, 0.3));\n",
              "      fill: #FFFFFF;\n",
              "    }\n",
              "  </style>\n",
              "\n",
              "      <script>\n",
              "        const buttonEl =\n",
              "          document.querySelector('#df-ad13c09e-c4bc-477b-b8e4-0f48233127e8 button.colab-df-convert');\n",
              "        buttonEl.style.display =\n",
              "          google.colab.kernel.accessAllowed ? 'block' : 'none';\n",
              "\n",
              "        async function convertToInteractive(key) {\n",
              "          const element = document.querySelector('#df-ad13c09e-c4bc-477b-b8e4-0f48233127e8');\n",
              "          const dataTable =\n",
              "            await google.colab.kernel.invokeFunction('convertToInteractive',\n",
              "                                                     [key], {});\n",
              "          if (!dataTable) return;\n",
              "\n",
              "          const docLinkHtml = 'Like what you see? Visit the ' +\n",
              "            '<a target=\"_blank\" href=https://colab.research.google.com/notebooks/data_table.ipynb>data table notebook</a>'\n",
              "            + ' to learn more about interactive tables.';\n",
              "          element.innerHTML = '';\n",
              "          dataTable['output_type'] = 'display_data';\n",
              "          await google.colab.output.renderOutput(dataTable, element);\n",
              "          const docLink = document.createElement('div');\n",
              "          docLink.innerHTML = docLinkHtml;\n",
              "          element.appendChild(docLink);\n",
              "        }\n",
              "      </script>\n",
              "    </div>\n",
              "  </div>\n",
              "  "
            ]
          },
          "metadata": {},
          "execution_count": 49
        }
      ],
      "source": [
        "df.describe()"
      ]
    },
    {
      "cell_type": "code",
      "execution_count": 50,
      "metadata": {
        "colab": {
          "base_uri": "https://localhost:8080/",
          "height": 394
        },
        "id": "Q709DVztA0as",
        "outputId": "a75f7118-b175-4c48-98cf-3c3cfbf05e02"
      },
      "outputs": [
        {
          "output_type": "execute_result",
          "data": {
            "text/plain": [
              "          Mes        2001        2002        2003        2004        2005  \\\n",
              "count      12   12.000000   12.000000   12.000000   12.000000   12.000000   \n",
              "unique     12         NaN         NaN         NaN         NaN         NaN   \n",
              "top     Enero         NaN         NaN         NaN         NaN         NaN   \n",
              "freq        1         NaN         NaN         NaN         NaN         NaN   \n",
              "mean      NaN  186.666667  182.833333  200.250000  144.583333  142.166667   \n",
              "std       NaN   22.708962   15.758596   23.499033   18.287891   13.985924   \n",
              "min       NaN  158.000000  148.000000  159.000000  105.000000  113.000000   \n",
              "25%       NaN  168.000000  174.750000  187.500000  132.000000  136.000000   \n",
              "50%       NaN  181.000000  180.500000  195.500000  146.000000  146.000000   \n",
              "75%       NaN  202.500000  194.500000  213.500000  152.500000  148.250000   \n",
              "max       NaN  230.000000  210.000000  252.000000  175.000000  166.000000   \n",
              "\n",
              "              2006        2007        2008        2009  Poblacion  \n",
              "count    12.000000   12.000000   12.000000   12.000000       12.0  \n",
              "unique         NaN         NaN         NaN         NaN        NaN  \n",
              "top            NaN         NaN         NaN         NaN        NaN  \n",
              "freq           NaN         NaN         NaN         NaN        NaN  \n",
              "mean    110.916667  126.916667  152.583333  129.000000  1243756.0  \n",
              "std      15.156507   18.583758   25.738045   13.355285        0.0  \n",
              "min      88.000000   93.000000   99.000000  106.000000  1243756.0  \n",
              "25%     100.500000  117.750000  132.250000  123.500000  1243756.0  \n",
              "50%     109.500000  125.500000  163.500000  130.500000  1243756.0  \n",
              "75%     120.750000  136.500000  168.250000  135.250000  1243756.0  \n",
              "max     134.000000  160.000000  189.000000  155.000000  1243756.0  "
            ],
            "text/html": [
              "\n",
              "  <div id=\"df-355fb4e5-e95d-46c4-b256-0e169dacf503\">\n",
              "    <div class=\"colab-df-container\">\n",
              "      <div>\n",
              "<style scoped>\n",
              "    .dataframe tbody tr th:only-of-type {\n",
              "        vertical-align: middle;\n",
              "    }\n",
              "\n",
              "    .dataframe tbody tr th {\n",
              "        vertical-align: top;\n",
              "    }\n",
              "\n",
              "    .dataframe thead th {\n",
              "        text-align: right;\n",
              "    }\n",
              "</style>\n",
              "<table border=\"1\" class=\"dataframe\">\n",
              "  <thead>\n",
              "    <tr style=\"text-align: right;\">\n",
              "      <th></th>\n",
              "      <th>Mes</th>\n",
              "      <th>2001</th>\n",
              "      <th>2002</th>\n",
              "      <th>2003</th>\n",
              "      <th>2004</th>\n",
              "      <th>2005</th>\n",
              "      <th>2006</th>\n",
              "      <th>2007</th>\n",
              "      <th>2008</th>\n",
              "      <th>2009</th>\n",
              "      <th>Poblacion</th>\n",
              "    </tr>\n",
              "  </thead>\n",
              "  <tbody>\n",
              "    <tr>\n",
              "      <th>count</th>\n",
              "      <td>12</td>\n",
              "      <td>12.000000</td>\n",
              "      <td>12.000000</td>\n",
              "      <td>12.000000</td>\n",
              "      <td>12.000000</td>\n",
              "      <td>12.000000</td>\n",
              "      <td>12.000000</td>\n",
              "      <td>12.000000</td>\n",
              "      <td>12.000000</td>\n",
              "      <td>12.000000</td>\n",
              "      <td>12.0</td>\n",
              "    </tr>\n",
              "    <tr>\n",
              "      <th>unique</th>\n",
              "      <td>12</td>\n",
              "      <td>NaN</td>\n",
              "      <td>NaN</td>\n",
              "      <td>NaN</td>\n",
              "      <td>NaN</td>\n",
              "      <td>NaN</td>\n",
              "      <td>NaN</td>\n",
              "      <td>NaN</td>\n",
              "      <td>NaN</td>\n",
              "      <td>NaN</td>\n",
              "      <td>NaN</td>\n",
              "    </tr>\n",
              "    <tr>\n",
              "      <th>top</th>\n",
              "      <td>Enero</td>\n",
              "      <td>NaN</td>\n",
              "      <td>NaN</td>\n",
              "      <td>NaN</td>\n",
              "      <td>NaN</td>\n",
              "      <td>NaN</td>\n",
              "      <td>NaN</td>\n",
              "      <td>NaN</td>\n",
              "      <td>NaN</td>\n",
              "      <td>NaN</td>\n",
              "      <td>NaN</td>\n",
              "    </tr>\n",
              "    <tr>\n",
              "      <th>freq</th>\n",
              "      <td>1</td>\n",
              "      <td>NaN</td>\n",
              "      <td>NaN</td>\n",
              "      <td>NaN</td>\n",
              "      <td>NaN</td>\n",
              "      <td>NaN</td>\n",
              "      <td>NaN</td>\n",
              "      <td>NaN</td>\n",
              "      <td>NaN</td>\n",
              "      <td>NaN</td>\n",
              "      <td>NaN</td>\n",
              "    </tr>\n",
              "    <tr>\n",
              "      <th>mean</th>\n",
              "      <td>NaN</td>\n",
              "      <td>186.666667</td>\n",
              "      <td>182.833333</td>\n",
              "      <td>200.250000</td>\n",
              "      <td>144.583333</td>\n",
              "      <td>142.166667</td>\n",
              "      <td>110.916667</td>\n",
              "      <td>126.916667</td>\n",
              "      <td>152.583333</td>\n",
              "      <td>129.000000</td>\n",
              "      <td>1243756.0</td>\n",
              "    </tr>\n",
              "    <tr>\n",
              "      <th>std</th>\n",
              "      <td>NaN</td>\n",
              "      <td>22.708962</td>\n",
              "      <td>15.758596</td>\n",
              "      <td>23.499033</td>\n",
              "      <td>18.287891</td>\n",
              "      <td>13.985924</td>\n",
              "      <td>15.156507</td>\n",
              "      <td>18.583758</td>\n",
              "      <td>25.738045</td>\n",
              "      <td>13.355285</td>\n",
              "      <td>0.0</td>\n",
              "    </tr>\n",
              "    <tr>\n",
              "      <th>min</th>\n",
              "      <td>NaN</td>\n",
              "      <td>158.000000</td>\n",
              "      <td>148.000000</td>\n",
              "      <td>159.000000</td>\n",
              "      <td>105.000000</td>\n",
              "      <td>113.000000</td>\n",
              "      <td>88.000000</td>\n",
              "      <td>93.000000</td>\n",
              "      <td>99.000000</td>\n",
              "      <td>106.000000</td>\n",
              "      <td>1243756.0</td>\n",
              "    </tr>\n",
              "    <tr>\n",
              "      <th>25%</th>\n",
              "      <td>NaN</td>\n",
              "      <td>168.000000</td>\n",
              "      <td>174.750000</td>\n",
              "      <td>187.500000</td>\n",
              "      <td>132.000000</td>\n",
              "      <td>136.000000</td>\n",
              "      <td>100.500000</td>\n",
              "      <td>117.750000</td>\n",
              "      <td>132.250000</td>\n",
              "      <td>123.500000</td>\n",
              "      <td>1243756.0</td>\n",
              "    </tr>\n",
              "    <tr>\n",
              "      <th>50%</th>\n",
              "      <td>NaN</td>\n",
              "      <td>181.000000</td>\n",
              "      <td>180.500000</td>\n",
              "      <td>195.500000</td>\n",
              "      <td>146.000000</td>\n",
              "      <td>146.000000</td>\n",
              "      <td>109.500000</td>\n",
              "      <td>125.500000</td>\n",
              "      <td>163.500000</td>\n",
              "      <td>130.500000</td>\n",
              "      <td>1243756.0</td>\n",
              "    </tr>\n",
              "    <tr>\n",
              "      <th>75%</th>\n",
              "      <td>NaN</td>\n",
              "      <td>202.500000</td>\n",
              "      <td>194.500000</td>\n",
              "      <td>213.500000</td>\n",
              "      <td>152.500000</td>\n",
              "      <td>148.250000</td>\n",
              "      <td>120.750000</td>\n",
              "      <td>136.500000</td>\n",
              "      <td>168.250000</td>\n",
              "      <td>135.250000</td>\n",
              "      <td>1243756.0</td>\n",
              "    </tr>\n",
              "    <tr>\n",
              "      <th>max</th>\n",
              "      <td>NaN</td>\n",
              "      <td>230.000000</td>\n",
              "      <td>210.000000</td>\n",
              "      <td>252.000000</td>\n",
              "      <td>175.000000</td>\n",
              "      <td>166.000000</td>\n",
              "      <td>134.000000</td>\n",
              "      <td>160.000000</td>\n",
              "      <td>189.000000</td>\n",
              "      <td>155.000000</td>\n",
              "      <td>1243756.0</td>\n",
              "    </tr>\n",
              "  </tbody>\n",
              "</table>\n",
              "</div>\n",
              "      <button class=\"colab-df-convert\" onclick=\"convertToInteractive('df-355fb4e5-e95d-46c4-b256-0e169dacf503')\"\n",
              "              title=\"Convert this dataframe to an interactive table.\"\n",
              "              style=\"display:none;\">\n",
              "        \n",
              "  <svg xmlns=\"http://www.w3.org/2000/svg\" height=\"24px\"viewBox=\"0 0 24 24\"\n",
              "       width=\"24px\">\n",
              "    <path d=\"M0 0h24v24H0V0z\" fill=\"none\"/>\n",
              "    <path d=\"M18.56 5.44l.94 2.06.94-2.06 2.06-.94-2.06-.94-.94-2.06-.94 2.06-2.06.94zm-11 1L8.5 8.5l.94-2.06 2.06-.94-2.06-.94L8.5 2.5l-.94 2.06-2.06.94zm10 10l.94 2.06.94-2.06 2.06-.94-2.06-.94-.94-2.06-.94 2.06-2.06.94z\"/><path d=\"M17.41 7.96l-1.37-1.37c-.4-.4-.92-.59-1.43-.59-.52 0-1.04.2-1.43.59L10.3 9.45l-7.72 7.72c-.78.78-.78 2.05 0 2.83L4 21.41c.39.39.9.59 1.41.59.51 0 1.02-.2 1.41-.59l7.78-7.78 2.81-2.81c.8-.78.8-2.07 0-2.86zM5.41 20L4 18.59l7.72-7.72 1.47 1.35L5.41 20z\"/>\n",
              "  </svg>\n",
              "      </button>\n",
              "      \n",
              "  <style>\n",
              "    .colab-df-container {\n",
              "      display:flex;\n",
              "      flex-wrap:wrap;\n",
              "      gap: 12px;\n",
              "    }\n",
              "\n",
              "    .colab-df-convert {\n",
              "      background-color: #E8F0FE;\n",
              "      border: none;\n",
              "      border-radius: 50%;\n",
              "      cursor: pointer;\n",
              "      display: none;\n",
              "      fill: #1967D2;\n",
              "      height: 32px;\n",
              "      padding: 0 0 0 0;\n",
              "      width: 32px;\n",
              "    }\n",
              "\n",
              "    .colab-df-convert:hover {\n",
              "      background-color: #E2EBFA;\n",
              "      box-shadow: 0px 1px 2px rgba(60, 64, 67, 0.3), 0px 1px 3px 1px rgba(60, 64, 67, 0.15);\n",
              "      fill: #174EA6;\n",
              "    }\n",
              "\n",
              "    [theme=dark] .colab-df-convert {\n",
              "      background-color: #3B4455;\n",
              "      fill: #D2E3FC;\n",
              "    }\n",
              "\n",
              "    [theme=dark] .colab-df-convert:hover {\n",
              "      background-color: #434B5C;\n",
              "      box-shadow: 0px 1px 3px 1px rgba(0, 0, 0, 0.15);\n",
              "      filter: drop-shadow(0px 1px 2px rgba(0, 0, 0, 0.3));\n",
              "      fill: #FFFFFF;\n",
              "    }\n",
              "  </style>\n",
              "\n",
              "      <script>\n",
              "        const buttonEl =\n",
              "          document.querySelector('#df-355fb4e5-e95d-46c4-b256-0e169dacf503 button.colab-df-convert');\n",
              "        buttonEl.style.display =\n",
              "          google.colab.kernel.accessAllowed ? 'block' : 'none';\n",
              "\n",
              "        async function convertToInteractive(key) {\n",
              "          const element = document.querySelector('#df-355fb4e5-e95d-46c4-b256-0e169dacf503');\n",
              "          const dataTable =\n",
              "            await google.colab.kernel.invokeFunction('convertToInteractive',\n",
              "                                                     [key], {});\n",
              "          if (!dataTable) return;\n",
              "\n",
              "          const docLinkHtml = 'Like what you see? Visit the ' +\n",
              "            '<a target=\"_blank\" href=https://colab.research.google.com/notebooks/data_table.ipynb>data table notebook</a>'\n",
              "            + ' to learn more about interactive tables.';\n",
              "          element.innerHTML = '';\n",
              "          dataTable['output_type'] = 'display_data';\n",
              "          await google.colab.output.renderOutput(dataTable, element);\n",
              "          const docLink = document.createElement('div');\n",
              "          docLink.innerHTML = docLinkHtml;\n",
              "          element.appendChild(docLink);\n",
              "        }\n",
              "      </script>\n",
              "    </div>\n",
              "  </div>\n",
              "  "
            ]
          },
          "metadata": {},
          "execution_count": 50
        }
      ],
      "source": [
        "df.describe(include='all')"
      ]
    },
    {
      "cell_type": "code",
      "execution_count": 54,
      "metadata": {
        "colab": {
          "base_uri": "https://localhost:8080/"
        },
        "id": "-Twy6pIOA7NF",
        "outputId": "8f24fac5-bfde-4f6c-f7cf-8d26a291166c"
      },
      "outputs": [
        {
          "output_type": "execute_result",
          "data": {
            "text/plain": [
              "count         12.0\n",
              "mean     1243756.0\n",
              "std            0.0\n",
              "min      1243756.0\n",
              "25%      1243756.0\n",
              "50%      1243756.0\n",
              "75%      1243756.0\n",
              "max      1243756.0\n",
              "Name: Poblacion, dtype: float64"
            ]
          },
          "metadata": {},
          "execution_count": 54
        }
      ],
      "source": [
        "#Esta linea refiere a medidas de tendencia central\n",
        "df['Poblacion'].describe()"
      ]
    },
    {
      "cell_type": "code",
      "execution_count": 52,
      "metadata": {
        "colab": {
          "base_uri": "https://localhost:8080/"
        },
        "id": "tSb_x24lBCK8",
        "outputId": "c7ac237c-fb2e-4827-daa6-5791806b1670"
      },
      "outputs": [
        {
          "output_type": "execute_result",
          "data": {
            "text/plain": [
              "array(['Enero', 'Febrero', 'Marzo', 'Abril', 'Mayo', 'Junio', 'Julio',\n",
              "       'Agosto ', 'Septiembre ', 'Octubre ', 'Noviembre ', 'Diciembre '],\n",
              "      dtype=object)"
            ]
          },
          "metadata": {},
          "execution_count": 52
        }
      ],
      "source": [
        "df['Mes'].unique()"
      ]
    },
    {
      "cell_type": "code",
      "execution_count": 53,
      "metadata": {
        "colab": {
          "base_uri": "https://localhost:8080/"
        },
        "id": "iJRSx5asVrBR",
        "outputId": "5519efbc-35a7-48b2-f30b-eea1ec13f878"
      },
      "outputs": [
        {
          "output_type": "execute_result",
          "data": {
            "text/plain": [
              "1243756"
            ]
          },
          "metadata": {},
          "execution_count": 53
        }
      ],
      "source": [
        "#Indicame el máximo \n",
        "df['Poblacion'].max()"
      ]
    },
    {
      "cell_type": "code",
      "execution_count": 22,
      "metadata": {
        "colab": {
          "base_uri": "https://localhost:8080/"
        },
        "id": "HGx7-ofqV6a-",
        "outputId": "7f33f8fd-2b2d-42c7-e2a7-b5e96e3938c0"
      },
      "outputs": [
        {
          "output_type": "execute_result",
          "data": {
            "text/plain": [
              "1243756.0"
            ]
          },
          "metadata": {},
          "execution_count": 22
        }
      ],
      "source": [
        "#Indicame la media\n",
        "df['Poblacion'].mean()"
      ]
    },
    {
      "cell_type": "code",
      "execution_count": 23,
      "metadata": {
        "colab": {
          "base_uri": "https://localhost:8080/"
        },
        "id": "htmgor4WWCQT",
        "outputId": "7dc34a80-693e-473a-8fc2-0e74b2bf7c37"
      },
      "outputs": [
        {
          "output_type": "execute_result",
          "data": {
            "text/plain": [
              "1243756    12\n",
              "Name: Poblacion, dtype: int64"
            ]
          },
          "metadata": {},
          "execution_count": 23
        }
      ],
      "source": [
        "#Indicame un análisis de frecuencias\n",
        "#Lo que vemos son los datos más repetidos \"Moda\"\n",
        "df['Poblacion'].value_counts()"
      ]
    },
    {
      "cell_type": "code",
      "source": [
        "#Diagrama de lineas \n",
        "df.plot.scatter(x= 'Poblacion' ,y = 'Mes')"
      ],
      "metadata": {
        "colab": {
          "base_uri": "https://localhost:8080/",
          "height": 296
        },
        "id": "TxsgrsacY3cK",
        "outputId": "5a589a83-cd59-4632-8f51-911e275a9ed4"
      },
      "execution_count": 55,
      "outputs": [
        {
          "output_type": "execute_result",
          "data": {
            "text/plain": [
              "<matplotlib.axes._subplots.AxesSubplot at 0x7f69d64d61d0>"
            ]
          },
          "metadata": {},
          "execution_count": 55
        },
        {
          "output_type": "display_data",
          "data": {
            "text/plain": [
              "<Figure size 432x288 with 1 Axes>"
            ],
            "image/png": "[encoded data removed]"
          },
          "metadata": {
            "needs_background": "light"
          }
        }
      ]
    },
    {
      "cell_type": "code",
      "source": [
        "#Realizar histograma\n",
        "df.plot.hist()"
      ],
      "metadata": {
        "colab": {
          "base_uri": "https://localhost:8080/",
          "height": 295
        },
        "id": "Kd5mDJdyY_Z0",
        "outputId": "d76d758f-f5a9-4c16-fa05-4ca0e9ec7b2c"
      },
      "execution_count": 32,
      "outputs": [
        {
          "output_type": "execute_result",
          "data": {
            "text/plain": [
              "<matplotlib.axes._subplots.AxesSubplot at 0x7f69dd526dd0>"
            ]
          },
          "metadata": {},
          "execution_count": 32
        },
        {
          "output_type": "display_data",
          "data": {
            "text/plain": [
              "<Figure size 432x288 with 1 Axes>"
            ],
            "image/png": "[encoded data removed]"
          },
          "metadata": {
            "needs_background": "light"
          }
        }
      ]
    },
    {
      "cell_type": "code",
      "source": [
        "df['Poblacion'].plot.hist()"
      ],
      "metadata": {
        "colab": {
          "base_uri": "https://localhost:8080/",
          "height": 295
        },
        "id": "oymo2EuKZGN_",
        "outputId": "742d4bae-0412-49e2-8e81-197b8c336d70"
      },
      "execution_count": 33,
      "outputs": [
        {
          "output_type": "execute_result",
          "data": {
            "text/plain": [
              "<matplotlib.axes._subplots.AxesSubplot at 0x7f69d68fad10>"
            ]
          },
          "metadata": {},
          "execution_count": 33
        },
        {
          "output_type": "display_data",
          "data": {
            "text/plain": [
              "<Figure size 432x288 with 1 Axes>"
            ],
            "image/png": "[encoded data removed]"
          },
          "metadata": {
            "needs_background": "light"
          }
        }
      ]
    },
    {
      "cell_type": "code",
      "source": [
        "#Diagramas de caja //Mayor dispersión entre el cuartil de incidentes.\n",
        "df.plot.box()"
      ],
      "metadata": {
        "colab": {
          "base_uri": "https://localhost:8080/",
          "height": 293
        },
        "id": "uDi6JwQSZL5O",
        "outputId": "50257a28-79b2-45dc-cda3-dcb653e7b3ed"
      },
      "execution_count": 34,
      "outputs": [
        {
          "output_type": "execute_result",
          "data": {
            "text/plain": [
              "<matplotlib.axes._subplots.AxesSubplot at 0x7f69d678e3d0>"
            ]
          },
          "metadata": {},
          "execution_count": 34
        },
        {
          "output_type": "display_data",
          "data": {
            "text/plain": [
              "<Figure size 432x288 with 1 Axes>"
            ],
            "image/png": "[encoded data removed]"
          },
          "metadata": {
            "needs_background": "light"
          }
        }
      ]
    },
    {
      "cell_type": "code",
      "source": [
        "df.groupby('Poblacion').boxplot(figsize=(15,15),rot= 45)"
      ],
      "metadata": {
        "colab": {
          "base_uri": "https://localhost:8080/",
          "height": 940
        },
        "id": "2hjIR3BaZR5B",
        "outputId": "31e32a9c-dea2-4a4a-d617-831bee401a1d"
      },
      "execution_count": 35,
      "outputs": [
        {
          "output_type": "execute_result",
          "data": {
            "text/plain": [
              "1243756    AxesSubplot(0.1,0.15;0.8x0.75)\n",
              "dtype: object"
            ]
          },
          "metadata": {},
          "execution_count": 35
        },
        {
          "output_type": "display_data",
          "data": {
            "text/plain": [
              "<Figure size 1080x1080 with 1 Axes>"
            ],
            "image/png": "[encoded data removed]"
          },
          "metadata": {
            "needs_background": "light"
          }
        }
      ]
    },
    {
      "cell_type": "code",
      "source": [
        "import matplotlib.pyplot as plt\n",
        "import numpy as np"
      ],
      "metadata": {
        "id": "BXvZNb-saXtA"
      },
      "execution_count": 44,
      "outputs": []
    },
    {
      "cell_type": "code",
      "source": [
        "#Tabla pivote\n",
        "tabla = pd.pivot_table(df,values = 'Poblacion', index= 'Mes', aggfunc= np.mean)\n",
        "tabla"
      ],
      "metadata": {
        "colab": {
          "base_uri": "https://localhost:8080/",
          "height": 457
        },
        "id": "sht5J-EvZdmR",
        "outputId": "66a8e032-3621-4896-e867-bd0caad89a43"
      },
      "execution_count": 45,
      "outputs": [
        {
          "output_type": "execute_result",
          "data": {
            "text/plain": [
              "             Poblacion\n",
              "Mes                   \n",
              "Abril          1243756\n",
              "Agosto         1243756\n",
              "Diciembre      1243756\n",
              "Enero          1243756\n",
              "Febrero        1243756\n",
              "Julio          1243756\n",
              "Junio          1243756\n",
              "Marzo          1243756\n",
              "Mayo           1243756\n",
              "Noviembre      1243756\n",
              "Octubre        1243756\n",
              "Septiembre     1243756"
            ],
            "text/html": [
              "\n",
              "  <div id=\"df-a295a58d-3915-4294-842d-52d088513112\">\n",
              "    <div class=\"colab-df-container\">\n",
              "      <div>\n",
              "<style scoped>\n",
              "    .dataframe tbody tr th:only-of-type {\n",
              "        vertical-align: middle;\n",
              "    }\n",
              "\n",
              "    .dataframe tbody tr th {\n",
              "        vertical-align: top;\n",
              "    }\n",
              "\n",
              "    .dataframe thead th {\n",
              "        text-align: right;\n",
              "    }\n",
              "</style>\n",
              "<table border=\"1\" class=\"dataframe\">\n",
              "  <thead>\n",
              "    <tr style=\"text-align: right;\">\n",
              "      <th></th>\n",
              "      <th>Poblacion</th>\n",
              "    </tr>\n",
              "    <tr>\n",
              "      <th>Mes</th>\n",
              "      <th></th>\n",
              "    </tr>\n",
              "  </thead>\n",
              "  <tbody>\n",
              "    <tr>\n",
              "      <th>Abril</th>\n",
              "      <td>1243756</td>\n",
              "    </tr>\n",
              "    <tr>\n",
              "      <th>Agosto</th>\n",
              "      <td>1243756</td>\n",
              "    </tr>\n",
              "    <tr>\n",
              "      <th>Diciembre</th>\n",
              "      <td>1243756</td>\n",
              "    </tr>\n",
              "    <tr>\n",
              "      <th>Enero</th>\n",
              "      <td>1243756</td>\n",
              "    </tr>\n",
              "    <tr>\n",
              "      <th>Febrero</th>\n",
              "      <td>1243756</td>\n",
              "    </tr>\n",
              "    <tr>\n",
              "      <th>Julio</th>\n",
              "      <td>1243756</td>\n",
              "    </tr>\n",
              "    <tr>\n",
              "      <th>Junio</th>\n",
              "      <td>1243756</td>\n",
              "    </tr>\n",
              "    <tr>\n",
              "      <th>Marzo</th>\n",
              "      <td>1243756</td>\n",
              "    </tr>\n",
              "    <tr>\n",
              "      <th>Mayo</th>\n",
              "      <td>1243756</td>\n",
              "    </tr>\n",
              "    <tr>\n",
              "      <th>Noviembre</th>\n",
              "      <td>1243756</td>\n",
              "    </tr>\n",
              "    <tr>\n",
              "      <th>Octubre</th>\n",
              "      <td>1243756</td>\n",
              "    </tr>\n",
              "    <tr>\n",
              "      <th>Septiembre</th>\n",
              "      <td>1243756</td>\n",
              "    </tr>\n",
              "  </tbody>\n",
              "</table>\n",
              "</div>\n",
              "      <button class=\"colab-df-convert\" onclick=\"convertToInteractive('df-a295a58d-3915-4294-842d-52d088513112')\"\n",
              "              title=\"Convert this dataframe to an interactive table.\"\n",
              "              style=\"display:none;\">\n",
              "        \n",
              "  <svg xmlns=\"http://www.w3.org/2000/svg\" height=\"24px\"viewBox=\"0 0 24 24\"\n",
              "       width=\"24px\">\n",
              "    <path d=\"M0 0h24v24H0V0z\" fill=\"none\"/>\n",
              "    <path d=\"M18.56 5.44l.94 2.06.94-2.06 2.06-.94-2.06-.94-.94-2.06-.94 2.06-2.06.94zm-11 1L8.5 8.5l.94-2.06 2.06-.94-2.06-.94L8.5 2.5l-.94 2.06-2.06.94zm10 10l.94 2.06.94-2.06 2.06-.94-2.06-.94-.94-2.06-.94 2.06-2.06.94z\"/><path d=\"M17.41 7.96l-1.37-1.37c-.4-.4-.92-.59-1.43-.59-.52 0-1.04.2-1.43.59L10.3 9.45l-7.72 7.72c-.78.78-.78 2.05 0 2.83L4 21.41c.39.39.9.59 1.41.59.51 0 1.02-.2 1.41-.59l7.78-7.78 2.81-2.81c.8-.78.8-2.07 0-2.86zM5.41 20L4 18.59l7.72-7.72 1.47 1.35L5.41 20z\"/>\n",
              "  </svg>\n",
              "      </button>\n",
              "      \n",
              "  <style>\n",
              "    .colab-df-container {\n",
              "      display:flex;\n",
              "      flex-wrap:wrap;\n",
              "      gap: 12px;\n",
              "    }\n",
              "\n",
              "    .colab-df-convert {\n",
              "      background-color: #E8F0FE;\n",
              "      border: none;\n",
              "      border-radius: 50%;\n",
              "      cursor: pointer;\n",
              "      display: none;\n",
              "      fill: #1967D2;\n",
              "      height: 32px;\n",
              "      padding: 0 0 0 0;\n",
              "      width: 32px;\n",
              "    }\n",
              "\n",
              "    .colab-df-convert:hover {\n",
              "      background-color: #E2EBFA;\n",
              "      box-shadow: 0px 1px 2px rgba(60, 64, 67, 0.3), 0px 1px 3px 1px rgba(60, 64, 67, 0.15);\n",
              "      fill: #174EA6;\n",
              "    }\n",
              "\n",
              "    [theme=dark] .colab-df-convert {\n",
              "      background-color: #3B4455;\n",
              "      fill: #D2E3FC;\n",
              "    }\n",
              "\n",
              "    [theme=dark] .colab-df-convert:hover {\n",
              "      background-color: #434B5C;\n",
              "      box-shadow: 0px 1px 3px 1px rgba(0, 0, 0, 0.15);\n",
              "      filter: drop-shadow(0px 1px 2px rgba(0, 0, 0, 0.3));\n",
              "      fill: #FFFFFF;\n",
              "    }\n",
              "  </style>\n",
              "\n",
              "      <script>\n",
              "        const buttonEl =\n",
              "          document.querySelector('#df-a295a58d-3915-4294-842d-52d088513112 button.colab-df-convert');\n",
              "        buttonEl.style.display =\n",
              "          google.colab.kernel.accessAllowed ? 'block' : 'none';\n",
              "\n",
              "        async function convertToInteractive(key) {\n",
              "          const element = document.querySelector('#df-a295a58d-3915-4294-842d-52d088513112');\n",
              "          const dataTable =\n",
              "            await google.colab.kernel.invokeFunction('convertToInteractive',\n",
              "                                                     [key], {});\n",
              "          if (!dataTable) return;\n",
              "\n",
              "          const docLinkHtml = 'Like what you see? Visit the ' +\n",
              "            '<a target=\"_blank\" href=https://colab.research.google.com/notebooks/data_table.ipynb>data table notebook</a>'\n",
              "            + ' to learn more about interactive tables.';\n",
              "          element.innerHTML = '';\n",
              "          dataTable['output_type'] = 'display_data';\n",
              "          await google.colab.output.renderOutput(dataTable, element);\n",
              "          const docLink = document.createElement('div');\n",
              "          docLink.innerHTML = docLinkHtml;\n",
              "          element.appendChild(docLink);\n",
              "        }\n",
              "      </script>\n",
              "    </div>\n",
              "  </div>\n",
              "  "
            ]
          },
          "metadata": {},
          "execution_count": 45
        }
      ]
    }
  ],
  "metadata": {
    "colab": {
      "collapsed_sections": [],
      "provenance": [],
      "include_colab_link": true
    },
    "kernelspec": {
      "display_name": "Python 3",
      "name": "python3"
    },
    "language_info": {
      "name": "python"
    }
  },
  "nbformat": 4,
  "nbformat_minor": 0
}